{
 "cells": [
  {
   "cell_type": "markdown",
   "metadata": {},
   "source": [
    "# HDT 6 Redes neuronales"
   ]
  },
  {
   "cell_type": "markdown",
   "metadata": {},
   "source": [
    "## Creación del modelo"
   ]
  },
  {
   "cell_type": "code",
   "execution_count": 1,
   "metadata": {},
   "outputs": [
    {
     "name": "stderr",
     "output_type": "stream",
     "text": [
      "C:\\Users\\caste\\AppData\\Local\\Temp\\ipykernel_27528\\4206412945.py:1: DeprecationWarning: \n",
      "Pyarrow will become a required dependency of pandas in the next major release of pandas (pandas 3.0),\n",
      "(to allow more performant data types, such as the Arrow string type, and better interoperability with other libraries)\n",
      "but was not found to be installed on your system.\n",
      "If this would cause problems for you,\n",
      "please provide us feedback at https://github.com/pandas-dev/pandas/issues/54466\n",
      "        \n",
      "  import pandas as pd\n"
     ]
    }
   ],
   "source": [
    "import pandas as pd\n",
    "import numpy as np\n",
    "import plotly.express as px\n",
    "import matplotlib.pyplot as plt\n",
    "from mpl_toolkits.mplot3d import Axes3D  # Para graficar en 3-D"
   ]
  },
  {
   "cell_type": "code",
   "execution_count": 2,
   "metadata": {},
   "outputs": [
    {
     "name": "stdout",
     "output_type": "stream",
     "text": [
      "(1000000, 2)\n"
     ]
    }
   ],
   "source": [
    "# Por facilidad, se declara una variable para indicar el tamaño del conjunto \n",
    "#      de datos de entrenamiento. Puede probarse con 100,000 o 1,000,000 pero hay \n",
    "#      que tener cuidado ya que con tantas observaciones puede que la máquina se quede!\n",
    "\n",
    "observaciones = 1000000\n",
    "\n",
    "x1 = np.random.uniform(low = -10, high = 10, size = (observaciones,1))\n",
    "x2 = np.random.uniform(-10, 10, (observaciones,1))\n",
    "\n",
    "X = np.column_stack((x1,x2))\n",
    "\n",
    "# Verificar la forma de la matriz \n",
    "# Debiera ser n x k, donde n es el número de observaciones, y k es el número de variables.\n",
    "\n",
    "print (X.shape)"
   ]
  },
  {
   "cell_type": "code",
   "execution_count": 3,
   "metadata": {},
   "outputs": [
    {
     "name": "stdout",
     "output_type": "stream",
     "text": [
      "(1000000, 1)\n"
     ]
    }
   ],
   "source": [
    "ruido = np.random.uniform(-1, 1, (observaciones,1))\n",
    "\n",
    "metas = 2 * x1 - 3 * x2 + 5 + ruido\n",
    "#metas = 13 * x1 + 7 * x2 - 12 + ruido\n",
    "\n",
    "# Verificar las dimensiones. Deben ser n x m, donde m es el número de variables de salida.\n",
    "print (metas.shape)"
   ]
  },
  {
   "cell_type": "code",
   "execution_count": 4,
   "metadata": {},
   "outputs": [
    {
     "name": "stdout",
     "output_type": "stream",
     "text": [
      "(1000000, 1)\n",
      "(1000000, 1)\n",
      "(1000000, 1)\n"
     ]
    }
   ],
   "source": [
    "print(x1.shape)\n",
    "print(x2.shape)\n",
    "print(metas.shape)"
   ]
  },
  {
   "cell_type": "code",
   "execution_count": 5,
   "metadata": {},
   "outputs": [
    {
     "data": {
      "text/plain": [
       "'x1N = x1.reshape(observaciones,)\\nx2N = x2.reshape(observaciones,)\\nmetasN = metas.reshape(observaciones,)\\n\\nfig = px.scatter_3d(x = x1N, y = x2N, z = metasN)\\n\\nfig.update_layout(\\n    width = 500,\\n    height = 500,)\\n\\nfig.show()'"
      ]
     },
     "execution_count": 5,
     "metadata": {},
     "output_type": "execute_result"
    }
   ],
   "source": [
    "\"\"\"x1N = x1.reshape(observaciones,)\n",
    "x2N = x2.reshape(observaciones,)\n",
    "metasN = metas.reshape(observaciones,)\n",
    "\n",
    "fig = px.scatter_3d(x = x1N, y = x2N, z = metasN)\n",
    "\n",
    "fig.update_layout(\n",
    "    width = 500,\n",
    "    height = 500,)\n",
    "\n",
    "fig.show()\"\"\""
   ]
  },
  {
   "cell_type": "code",
   "execution_count": 6,
   "metadata": {},
   "outputs": [
    {
     "name": "stdout",
     "output_type": "stream",
     "text": [
      "[[-0.01245152]\n",
      " [-0.07440244]]\n",
      "[-0.05742797]\n"
     ]
    }
   ],
   "source": [
    "rango_inicial = 0.1     #  valor máximo para los pesos y sesgos iniciales\n",
    "\n",
    "pesos = np.random.uniform(low = -rango_inicial, high = rango_inicial, size = (2, 1))\n",
    "\n",
    "sesgos = np.random.uniform(low = -rango_inicial, high = rango_inicial, size = 1)\n",
    "\n",
    "#Ver cómo fueron inicializados.\n",
    "print (pesos)\n",
    "print (sesgos)"
   ]
  },
  {
   "cell_type": "code",
   "execution_count": 7,
   "metadata": {},
   "outputs": [
    {
     "data": {
      "text/plain": [
       "(2, 1)"
      ]
     },
     "execution_count": 7,
     "metadata": {},
     "output_type": "execute_result"
    }
   ],
   "source": [
    "pesos.shape"
   ]
  },
  {
   "cell_type": "code",
   "execution_count": 8,
   "metadata": {},
   "outputs": [],
   "source": [
    "eta = 0.02"
   ]
  },
  {
   "cell_type": "code",
   "execution_count": 9,
   "metadata": {},
   "outputs": [],
   "source": [
    "#for i in range(1000)\n",
    "for i in range (100):\n",
    "    \n",
    "    # Esta es la ecuacion del modelo lineal: y = xw + b \n",
    "    y = np.dot(X, pesos) + sesgos\n",
    "    \n",
    "    # Las deltas son las diferencias entre las salidas y las metas (targets)\n",
    "    # deltas es un vector 1000 x 1\n",
    "    deltas = y - metas\n",
    "    \"\"\"Cambios de las funciones\"\"\"\n",
    "    perdida = np.sum(deltas ** 2) / 2 / observaciones\n",
    "    #perdida = np.sum(deltas ** 2) / observaciones   \n",
    "    #perdida = np.sum(np.abs(deltas)) / observaciones\n",
    "    \n",
    "\n",
    "    #print(perdida)\n",
    "    \n",
    "    deltas_escaladas = deltas / observaciones\n",
    "      \n",
    "    pesos = pesos - eta * np.dot(X.T, deltas_escaladas)\n",
    "    sesgos = sesgos - eta * np.sum(deltas_escaladas)\n",
    "    \n",
    "    # Los pesos son actualizados en forma de algebra lineal(una matriz menos otra)\n",
    "    # Sin embargo, los sesgos en este caso son solo un número (solo se calcula una salida), \n",
    "    #       es necesario transformar las deltas a un escalar.      \n",
    "    # Ambas líneas son consistentes con la metodología de decenso de gradiente"
   ]
  },
  {
   "cell_type": "code",
   "execution_count": 10,
   "metadata": {},
   "outputs": [
    {
     "name": "stdout",
     "output_type": "stream",
     "text": [
      "[[ 1.99994312]\n",
      " [-3.00002061]] [4.328949]\n"
     ]
    }
   ],
   "source": [
    "print(pesos, sesgos)"
   ]
  },
  {
   "cell_type": "code",
   "execution_count": 11,
   "metadata": {},
   "outputs": [
    {
     "data": {
      "text/plain": [
       "'yN = y.reshape(observaciones,)\\nmetasN = metas.reshape(observaciones,)\\nfig = px.scatter(x = yN, y =  metasN)\\n\\nfig.update_layout(\\n    width = 400,\\n    height = 400,)\\n\\nfig.show()'"
      ]
     },
     "execution_count": 11,
     "metadata": {},
     "output_type": "execute_result"
    }
   ],
   "source": [
    "\"\"\"yN = y.reshape(observaciones,)\n",
    "metasN = metas.reshape(observaciones,)\n",
    "fig = px.scatter(x = yN, y =  metasN)\n",
    "\n",
    "fig.update_layout(\n",
    "    width = 400,\n",
    "    height = 400,)\n",
    "\n",
    "fig.show()\"\"\""
   ]
  },
  {
   "cell_type": "markdown",
   "metadata": {},
   "source": [
    "## Taza de aprendizaje 0.0001"
   ]
  },
  {
   "cell_type": "code",
   "execution_count": 12,
   "metadata": {},
   "outputs": [
    {
     "name": "stdout",
     "output_type": "stream",
     "text": [
      "Pesos finales: [[ 0.58710887]\n",
      " [-0.86091633]]\n",
      "Sesgo final: [0.00915128]\n"
     ]
    },
    {
     "data": {
      "image/png": "[encoded data removed]",
      "text/plain": [
       "<Figure size 640x480 with 1 Axes>"
      ]
     },
     "metadata": {},
     "output_type": "display_data"
    }
   ],
   "source": [
    "import numpy as np\n",
    "import matplotlib.pyplot as plt\n",
    "\n",
    "observaciones = 1000\n",
    "\n",
    "x1 = np.random.uniform(low=-10, high=10, size=(observaciones,1))\n",
    "x2 = np.random.uniform(-10, 10, (observaciones,1))\n",
    "\n",
    "X = np.column_stack((x1, x2))\n",
    "\n",
    "ruido = np.random.uniform(-1, 1, (observaciones,1))\n",
    "\n",
    "metas = 2 * x1 - 3 * x2 + 5 + ruido\n",
    "\n",
    "rango_inicial = 0.1\n",
    "pesos = np.random.uniform(low=-rango_inicial, high=rango_inicial, size=(2, 1))\n",
    "sesgos = np.random.uniform(low=-rango_inicial, high=rango_inicial, size=1)\n",
    "\n",
    "eta = 0.0001\n",
    "\n",
    "# Lista para almacenar la pérdida en cada iteración\n",
    "historial_perdida = []\n",
    "\n",
    "for i in range(100):\n",
    "    y = np.dot(X, pesos) + sesgos\n",
    "    deltas = y - metas\n",
    "    perdida = np.sum(deltas ** 2) / 2 / observaciones\n",
    "    historial_perdida.append(perdida)  # Guardar la pérdida en el historial\n",
    "    deltas_escaladas = deltas / observaciones\n",
    "    pesos = pesos - eta * np.dot(X.T, deltas_escaladas)\n",
    "    sesgos = sesgos - eta * np.sum(deltas_escaladas)\n",
    "\n",
    "print(\"Pesos finales:\", pesos)\n",
    "print(\"Sesgo final:\", sesgos)\n",
    "\n",
    "# Graficar el historial de pérdida\n",
    "plt.plot(range(1, 101), historial_perdida, marker='o', linestyle='-')\n",
    "plt.xlabel('Iteración')\n",
    "plt.ylabel('Pérdida')\n",
    "plt.title('Comportamiento de la pérdida durante el entrenamiento')\n",
    "plt.grid(True)\n",
    "plt.show()\n"
   ]
  },
  {
   "cell_type": "markdown",
   "metadata": {},
   "source": [
    "## Taza de aprendizaje 0.01"
   ]
  },
  {
   "cell_type": "code",
   "execution_count": 13,
   "metadata": {},
   "outputs": [
    {
     "name": "stdout",
     "output_type": "stream",
     "text": [
      "Pesos finales: [[ 2.0004453 ]\n",
      " [-2.98833332]]\n",
      "Sesgo final: [3.12035413]\n"
     ]
    },
    {
     "data": {
      "image/png": "[encoded data removed]",
      "text/plain": [
       "<Figure size 640x480 with 1 Axes>"
      ]
     },
     "metadata": {},
     "output_type": "display_data"
    }
   ],
   "source": [
    "import numpy as np\n",
    "import matplotlib.pyplot as plt\n",
    "\n",
    "observaciones = 1000\n",
    "\n",
    "x1 = np.random.uniform(low=-10, high=10, size=(observaciones,1))\n",
    "x2 = np.random.uniform(-10, 10, (observaciones,1))\n",
    "\n",
    "X = np.column_stack((x1, x2))\n",
    "\n",
    "ruido = np.random.uniform(-1, 1, (observaciones,1))\n",
    "\n",
    "metas = 2 * x1 - 3 * x2 + 5 + ruido\n",
    "\n",
    "rango_inicial = 0.1\n",
    "pesos = np.random.uniform(low=-rango_inicial, high=rango_inicial, size=(2, 1))\n",
    "sesgos = np.random.uniform(low=-rango_inicial, high=rango_inicial, size=1)\n",
    "\n",
    "eta = 0.01\n",
    "\n",
    "# Lista para almacenar la pérdida en cada iteración\n",
    "historial_perdida = []\n",
    "\n",
    "for i in range(100):\n",
    "    y = np.dot(X, pesos) + sesgos\n",
    "    deltas = y - metas\n",
    "    perdida = np.sum(deltas ** 2) / 2 / observaciones\n",
    "    historial_perdida.append(perdida)  # Guardar la pérdida en el historial\n",
    "    deltas_escaladas = deltas / observaciones\n",
    "    pesos = pesos - eta * np.dot(X.T, deltas_escaladas)\n",
    "    sesgos = sesgos - eta * np.sum(deltas_escaladas)\n",
    "\n",
    "print(\"Pesos finales:\", pesos)\n",
    "print(\"Sesgo final:\", sesgos)\n",
    "\n",
    "# Graficar el historial de pérdida\n",
    "plt.plot(range(1, 101), historial_perdida, marker='o', linestyle='-')\n",
    "plt.xlabel('Iteración')\n",
    "plt.ylabel('Pérdida')\n",
    "plt.title('Comportamiento de la pérdida durante el entrenamiento')\n",
    "plt.grid(True)\n",
    "plt.show()"
   ]
  },
  {
   "cell_type": "markdown",
   "metadata": {},
   "source": [
    "## Taza de aprendizaje 1"
   ]
  },
  {
   "cell_type": "code",
   "execution_count": 14,
   "metadata": {},
   "outputs": [
    {
     "name": "stdout",
     "output_type": "stream",
     "text": [
      "Pesos finales: [[-1.13101080e+153]\n",
      " [ 1.72588362e+153]]\n",
      "Sesgo final: [-1.70960987e+151]\n"
     ]
    },
    {
     "data": {
      "image/png": "[encoded data removed]",
      "text/plain": [
       "<Figure size 640x480 with 1 Axes>"
      ]
     },
     "metadata": {},
     "output_type": "display_data"
    }
   ],
   "source": [
    "import numpy as np\n",
    "import matplotlib.pyplot as plt\n",
    "\n",
    "observaciones = 1000\n",
    "\n",
    "x1 = np.random.uniform(low=-10, high=10, size=(observaciones,1))\n",
    "x2 = np.random.uniform(-10, 10, (observaciones,1))\n",
    "\n",
    "X = np.column_stack((x1, x2))\n",
    "\n",
    "ruido = np.random.uniform(-1, 1, (observaciones,1))\n",
    "\n",
    "metas = 2 * x1 - 3 * x2 + 5 + ruido\n",
    "\n",
    "rango_inicial = 0.1\n",
    "pesos = np.random.uniform(low=-rango_inicial, high=rango_inicial, size=(2, 1))\n",
    "sesgos = np.random.uniform(low=-rango_inicial, high=rango_inicial, size=1)\n",
    "\n",
    "eta = 1\n",
    "\n",
    "# Lista para almacenar la pérdida en cada iteración\n",
    "historial_perdida = []\n",
    "\n",
    "for i in range(100):\n",
    "    y = np.dot(X, pesos) + sesgos\n",
    "    deltas = y - metas\n",
    "    perdida = np.sum(deltas ** 2) / 2 / observaciones\n",
    "    historial_perdida.append(perdida)  # Guardar la pérdida en el historial\n",
    "    deltas_escaladas = deltas / observaciones\n",
    "    pesos = pesos - eta * np.dot(X.T, deltas_escaladas)\n",
    "    sesgos = sesgos - eta * np.sum(deltas_escaladas)\n",
    "\n",
    "print(\"Pesos finales:\", pesos)\n",
    "print(\"Sesgo final:\", sesgos)\n",
    "\n",
    "# Graficar el historial de pérdida\n",
    "plt.plot(range(1, 101), historial_perdida, marker='o', linestyle='-')\n",
    "plt.xlabel('Iteración')\n",
    "plt.ylabel('Pérdida')\n",
    "plt.title('Comportamiento de la pérdida durante el entrenamiento')\n",
    "plt.grid(True)\n",
    "plt.show()"
   ]
  }
 ],
 "metadata": {
  "kernelspec": {
   "display_name": "Python 3",
   "language": "python",
   "name": "python3"
  },
  "language_info": {
   "codemirror_mode": {
    "name": "ipython",
    "version": 3
   },
   "file_extension": ".py",
   "mimetype": "text/x-python",
   "name": "python",
   "nbconvert_exporter": "python",
   "pygments_lexer": "ipython3",
   "version": "3.11.6"
  }
 },
 "nbformat": 4,
 "nbformat_minor": 2
}
